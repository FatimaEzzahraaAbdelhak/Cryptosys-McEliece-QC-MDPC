{
 "cells": [
  {
   "cell_type": "code",
   "execution_count": 21,
   "metadata": {},
   "outputs": [],
   "source": [
    "from qcmdpc import *"
   ]
  },
  {
   "cell_type": "markdown",
   "metadata": {},
   "source": [
    "**Entrée:**\n",
    "    k: dimension du vecteur\n",
    "    t: poids de Hamming du vecteur\n",
    "    **Sortie:** vecteur aléatoire du poids de Hamming t et de la dimension k"
   ]
  },
  {
   "cell_type": "code",
   "execution_count": 22,
   "metadata": {},
   "outputs": [],
   "source": [
    "def genRandomVector(k, t):\n",
    "   \n",
    "    randomVector = np.zeros(k, dtype = np.int32)\n",
    "\n",
    "    # choisir t positions aléatoires parmi k positions\n",
    "    randomPositions = np.random.choice(k, t, replace=False)\n",
    "\n",
    "    # attribuer aux positions aléatoires la valeur 1\n",
    "    for j in randomPositions:\n",
    "        randomVector[j] = 1\n",
    "    \n",
    "    return randomVector"
   ]
  },
  {
   "cell_type": "markdown",
   "metadata": {},
   "source": [
    "**Entrée:**\n",
    "    G: matrice génératrice d'une matrice QC-MDPC\n",
    "    m: texte en clair\n",
    "    e: vecteur d'erreur\n",
    "    **Sortie:**\n",
    "    texte chiffré: message chiffré"
   ]
  },
  {
   "cell_type": "code",
   "execution_count": 23,
   "metadata": {},
   "outputs": [],
   "source": [
    "def encryptMcEliece(G, m, e):\n",
    "    rows, cols = G.shape\n",
    "    n = cols\n",
    "    r = cols - rows\n",
    "    \n",
    "    #le chiffrement suit le document de recherche, texte chiffré = m * G + e\n",
    "    ciphertext = np.copy(np.add(np.matmul(m, G), e))\n",
    "    \n",
    "    ciphertext = convertBinary(ciphertext)\n",
    "\n",
    "    #Décommentez ceci pour vérifier si le cryptage est correct\n",
    "    #print(\"Plaintext : \", convertBinary(np.matmul(m, G)))\n",
    "    #print(\"Error     : \", randomError)\n",
    "    #print(\"Ciphertext: \", ciphertext)\n",
    "    \n",
    "    return ciphertext"
   ]
  },
  {
   "cell_type": "markdown",
   "metadata": {},
   "source": [
    "**Entrée:**\n",
    "    H: matrice de contrôle de parité (pas nécessairement QC-MDPC)\n",
    "    c: mot à décoder\n",
    "    N: coupure pour le nombre d'itérations de retournement de bits\n",
    "    **Sortie:**\n",
    "    si le décodage est réussi, retourne le mot décodé\n",
    "    sinon retourne 0"
   ]
  },
  {
   "cell_type": "code",
   "execution_count": 24,
   "metadata": {},
   "outputs": [],
   "source": [
    "def bitFlipping(H, c, N):\n",
    "\n",
    "    print(\"\\nStarting Bit-Flipping Algorithm...\")\n",
    "    rows, cols = H.shape\n",
    "    \n",
    "    #Le graphe de Tanner de la matrice de contrôle de parité est représenté à l'aide de listes adjancency\n",
    "    bitsAdjList = [[] for i in range(cols)]\n",
    "    checksAdjList = [[] for i in range(rows)]\n",
    "    \n",
    "    #nœuds de bits et nœuds de contrôle, et initialisation d'autres paramètres\n",
    "    bits = np.copy(c)\n",
    "    checks = np.zeros(rows)\n",
    "    t = 0           #non. de tours\n",
    "    numOnes = 0     #compte non. de uns dans les nœuds de contrôle, si numOnes = 0, le mot de code est décodé\n",
    "    flipOrNot = 0   #utilisera le vote à la majorité pour décider si un morceau doit être retourné\n",
    "    checkSum = 0    #juste une variable intermédiaire pour le calcul\n",
    "    \n",
    "    for i in range(rows):\n",
    "        for j in range(cols):\n",
    "            if H[i, j] == 1:\n",
    "                bitsAdjList[j].append(i)\n",
    "                checksAdjList[i].append(j)\n",
    "    \n",
    "    while t < N:\n",
    "        #print(\"Bit-Flipping Decoding Round\", t, \":\")\n",
    "        for i in range(rows):\n",
    "            for j in checksAdjList[i]:\n",
    "                checkSum += bits[j]\n",
    "            checks[i] = checkSum % 2\n",
    "            checkSum = 0\n",
    "            if checks[i] == 1:\n",
    "                numOnes += 1\n",
    "\n",
    "        if numOnes == 0:\n",
    "            break\n",
    "        else:\n",
    "            numOnes = 0\n",
    "        \n",
    "        for i in range(cols):\n",
    "            for j in bitsAdjList[i]:\n",
    "                if checks[j] == 1:\n",
    "                    flipOrNot += 1\n",
    "            if 2*flipOrNot > len(bitsAdjList[i]):\n",
    "                bits[i] = (bits[i] + 1) % 2\n",
    "            flipOrNot = 0\n",
    "\n",
    "        t += 1\n",
    "                \n",
    "    if t < N:\n",
    "        print(\"Decoded in\", t, \"step(s).\")\n",
    "        \n",
    "        return bits\n",
    "    else:\n",
    "        print(\"Cannot decode\")\n",
    "    \n",
    "    return 0"
   ]
  },
  {
   "cell_type": "markdown",
   "metadata": {},
   "source": [
    "**Entrée:**\n",
    "        H: matrice QC-MDPC\n",
    "        y: texte chiffré\n",
    "        méthode:BF, représentant Bit-Flipping.\n",
    "    **Sortie:**\n",
    "        decryptedText: texte déchiffré\n",
    "        (le texte décrypté ne peut être qu'un entier si le décryptage échoue)\n",
    "    bitFlipping renvoie 0 si le décodage échoue en raison d'un dépassement de l'itération max"
   ]
  },
  {
   "cell_type": "code",
   "execution_count": 25,
   "metadata": {},
   "outputs": [],
   "source": [
    "def decryptMcEliece(H, y, method, N):\n",
    "  \n",
    "    r, n = H.shape\n",
    "    #Décryptage\n",
    "    decryptedText = bitFlipping(H, y, N)\n",
    "        \n",
    "    if type(decryptedText) == int:\n",
    "        print(\"Cannot decode by Bit-Flipping algorithm\")\n",
    "    else :\n",
    "        decryptedText = decryptedText[0: n - r]\n",
    "            \n",
    "    return decryptedText\n"
   ]
  },
  {
   "cell_type": "markdown",
   "metadata": {},
   "source": [
    "**Entrée:**\n",
    "    texte brut: le message d'origine\n",
    "    decryptedText: texte déchiffré\n",
    "    **Sortie:** retourne true si (texte clair == decryptedText) élément par élément, retourne false sinon"
   ]
  },
  {
   "cell_type": "code",
   "execution_count": 26,
   "metadata": {},
   "outputs": [],
   "source": [
    "def decryptSuccess(plaintext, decryptedText):\n",
    "\n",
    "    status = np.array_equal(plaintext, decryptedText)\n",
    "    if (status == True):\n",
    "        print(\"Decryption success!\")\n",
    "    else:\n",
    "        print(\"Decryption failure!\")\n",
    "        \n",
    "    return status"
   ]
  },
  {
   "cell_type": "markdown",
   "metadata": {},
   "source": [
    "Démo simple pour l'algorithme Bit-Flipping\n",
    "    **Entrée:** matrice de contrôle de parité H, texte chiffré y\n",
    "    **Sortie:** texte déchiffré y '\n",
    "    Hypothèses: seulement 1 bit d'erreur a été introduit, donc définir le seuil = 1\n",
    "    et le décodage se terminera en 1 étape."
   ]
  },
  {
   "cell_type": "code",
   "execution_count": 33,
   "metadata": {},
   "outputs": [],
   "source": [
    "def demo(H, y):\n",
    "    print(\"H:\\n\", H)\n",
    "    r, n = H.shape\n",
    "    w = sum(H[0,:] == 1)\n",
    "    d = w // 2\n",
    "    iteration = 1\n",
    "    flipped = 1\n",
    "\n",
    "    s = convertBinary(np.matmul(y, np.transpose(H)))\n",
    "    print(\"\\ny=mH^T + e:\", y, \"#ciphertext\")\n",
    "    print(\"Threshold T:\", d)\n",
    "    print(\"\\n######### Starting the Bit-Flipping Algorithm... #########\\n\")\n",
    "\n",
    "    print(\"s = yH^T:\", s)\n",
    "    while (np.count_nonzero(s) > 0 and flipped == 1):\n",
    "        flipped = 0\n",
    "        # syndrome weight\n",
    "        T = 1\n",
    "\n",
    "        for j in range(n):\n",
    "            if (sum((s + H[:,j]) == 2)) >= T * d:\n",
    "                print(\"FLIPPED position %d\" % j)\n",
    "                print(\"y:\", y)\n",
    "                y[j] = y[j] ^ 1\n",
    "                \n",
    "                s = convertBinary(np.matmul(y, np.transpose(H)))\n",
    "                print(\"s = yH^T:\", s)\n",
    "                flipped = 1 \n",
    "        iteration += 1\n",
    "        # syndrome\n",
    "        s = np.matmul(y, np.transpose(H))\n",
    "        s = convertBinary(s)\n",
    "\n",
    "    print(\"Decrypted text:\\n\", y)\n",
    "    if (sum(s == 1) == 0):\n",
    "        return y[0: n-r]\n",
    "    else:\n",
    "        print(\"Cannot decode\")\n",
    "        return 0"
   ]
  },
  {
   "cell_type": "code",
   "execution_count": 34,
   "metadata": {},
   "outputs": [
    {
     "name": "stdout",
     "output_type": "stream",
     "text": [
      "génération d'une matrice aléatoire H:\n",
      " [[0 1 1 1 0 1 0 1 1 0]\n",
      " [0 0 1 1 1 0 1 0 1 1]\n",
      " [1 0 0 1 1 1 0 1 0 1]\n",
      " [1 1 0 0 1 1 1 0 1 0]\n",
      " [1 1 1 0 0 0 1 1 0 1]]\n",
      "génération d'une matrice génératrice G:\n",
      " [[1 0 0 0 0 1 1 0 1 0]\n",
      " [0 1 0 0 0 0 1 1 0 1]\n",
      " [0 0 1 0 0 1 0 1 1 0]\n",
      " [0 0 0 1 0 0 1 0 1 1]\n",
      " [0 0 0 0 1 1 0 1 0 1]]\n",
      "\n",
      "Message aléatoire m: [1 0 1 0 0]\n",
      "\n",
      "Vecteur d'erreur aléatoir e: [0 0 1 0 0 0 1 0 0 0]\n",
      "\n",
      "Message crypter C: [1 0 0 0 0 0 0 1 0 0]\n",
      "H:\n",
      " [[0 1 1 1 0 1 0 1 1 0]\n",
      " [0 0 1 1 1 0 1 0 1 1]\n",
      " [1 0 0 1 1 1 0 1 0 1]\n",
      " [1 1 0 0 1 1 1 0 1 0]\n",
      " [1 1 1 0 0 0 1 1 0 1]]\n",
      "\n",
      "y=mH^T + e: [1 0 0 0 0 0 0 1 0 0] #ciphertext\n",
      "Threshold T: 3\n",
      "\n",
      "######### Starting the Bit-Flipping Algorithm... #########\n",
      "\n",
      "s = yH^T: [1 0 0 1 0]\n",
      "Decrypted text:\n",
      " [1 0 0 0 0 0 0 1 0 0]\n",
      "Cannot decode\n",
      "Decryption failure!\n"
     ]
    },
    {
     "data": {
      "text/plain": [
       "False"
      ]
     },
     "execution_count": 34,
     "metadata": {},
     "output_type": "execute_result"
    }
   ],
   "source": [
    "# paramètres de code\n",
    "n0 = 2\n",
    "r = 5\n",
    "wi = 3\n",
    "\n",
    "N = 20\n",
    "k = r // 2\n",
    "################################## Paramètres de traitement ###################################\n",
    "\n",
    "n = n0 * r\n",
    "w = wi * n0\n",
    "t = 2\n",
    "\n",
    "#####################################Fonctions de test ####################################\n",
    "\n",
    "# générer une matrice aléatoire (n, r, w) -QC-MDPC H\n",
    "H = genQCMDPC(n, r, w)\n",
    "print(\"génération d'une matrice aléatoire H:\\n\", H)\n",
    "# Générer la matrice génératrice G correspondante\n",
    "G = genGenQCMDPC(H)\n",
    "print(\"génération d'une matrice génératrice G:\\n\", G)\n",
    "# générer un message aléatoire m de poids k\n",
    "m = genRandomVector(r, k)\n",
    "\n",
    "print(\"\\nMessage aléatoire m:\", m)\n",
    "\n",
    "# générer un vecteur d'erreur aléatoire e de poids t\n",
    "e = genRandomVector(n, t)\n",
    "\n",
    "print(\"\\nVecteur d'erreur aléatoir e:\", e)\n",
    "\n",
    "# crypter le message m\n",
    "y = encryptMcEliece(G, m, e)\n",
    "\n",
    "print(\"\\nMessage crypter C:\", y)\n",
    "\n",
    "# décrypter le texte chiffré\n",
    "decryptedText = demo(H, y)\n",
    "\n",
    "# vérifier si le décryptage est correct\n",
    "decryptSuccess(m, decryptedText)\n"
   ]
  },
  {
   "cell_type": "code",
   "execution_count": null,
   "metadata": {},
   "outputs": [],
   "source": []
  }
 ],
 "metadata": {
  "kernelspec": {
   "display_name": "Python 3",
   "language": "python",
   "name": "python3"
  },
  "language_info": {
   "codemirror_mode": {
    "name": "ipython",
    "version": 3
   },
   "file_extension": ".py",
   "mimetype": "text/x-python",
   "name": "python",
   "nbconvert_exporter": "python",
   "pygments_lexer": "ipython3",
   "version": "3.8.5"
  }
 },
 "nbformat": 4,
 "nbformat_minor": 4
}
