{
 "cells": [
  {
   "cell_type": "code",
   "execution_count": 20,
   "metadata": {},
   "outputs": [],
   "source": [
    "import csv\n",
    "import math\n",
    "from sympy import *\n",
    "import numpy as np\n",
    "from scipy import special\n",
    "from scipy.stats import binom, hypergeom\n",
    "import networkx as nx\n",
    "from networkx.algorithms import bipartite\n",
    "import matplotlib.pyplot as plt\n",
    "import random"
   ]
  },
  {
   "cell_type": "markdown",
   "metadata": {},
   "source": [
    "   **entree:**\n",
    "      r: longueur de la première rangée\n",
    "      wi: poids de Hamming de la première rangée.\n",
    "     **Sortie:**\n",
    "      tableau numpy de la première rangée d'un bloc circulant"
   ]
  },
  {
   "cell_type": "code",
   "execution_count": 21,
   "metadata": {},
   "outputs": [],
   "source": [
    "def genFirstRow(r, wi):\n",
    "\n",
    "    firstRow = np.zeros(r, dtype=np.int32)\n",
    "    # choisir les nombres wi de la plage (wi)\n",
    "    randomArray = np.random.choice(r, wi, replace=False)\n",
    "\n",
    "    for i in randomArray:\n",
    "        firstRow[i] = 1\n",
    "\n",
    "    return firstRow\n"
   ]
  },
  {
   "cell_type": "markdown",
   "metadata": {},
   "source": [
    "**entrée:** la première ligne de la matrice circulante binaire. \n",
    "    **Sortie:** la matrice circulante binaire"
   ]
  },
  {
   "cell_type": "code",
   "execution_count": 22,
   "metadata": {},
   "outputs": [],
   "source": [
    "def genCirculant(firstRow):\n",
    "   \n",
    "    rows = firstRow.size\n",
    "    firstRow = np.array(firstRow, dtype = np.int32)\n",
    "    M = np.zeros((rows, rows), dtype = np.int32)\n",
    "    M[0,:] = firstRow\n",
    "\n",
    "    for i in range(1,rows):\n",
    "        for j in range(rows):\n",
    "            M[i,j] = M[i-1, (j-1)%rows]\n",
    "    return M"
   ]
  },
  {
   "cell_type": "markdown",
   "metadata": {},
   "source": [
    " **entrée:** la première ligne d une matrice circulante. \n",
    "    **sortie:** la première ligne de la transposée de la matrice circulante"
   ]
  },
  {
   "cell_type": "code",
   "execution_count": 23,
   "metadata": {},
   "outputs": [],
   "source": [
    "def genTransposePoly(firstRow):\n",
    "  \n",
    "    transposePoly = np.zeros(len(firstRow), dtype = np.int32)\n",
    "    transposePoly[0] = firstRow[0]\n",
    "    transposePoly[1:] = np.flip(firstRow[1:])\n",
    "    return transposePoly"
   ]
  },
  {
   "cell_type": "markdown",
   "metadata": {},
   "source": [
    "**entrée:** la première rangée de 2 matrices circulantes. \n",
    "    **Sortie:** la première ligne du produit des matrices circulantes"
   ]
  },
  {
   "cell_type": "code",
   "execution_count": 24,
   "metadata": {},
   "outputs": [],
   "source": [
    "def genProdPoly(firstRowA, firstRowB):\n",
    "\n",
    "    r = len(firstRowA)\n",
    "    prodPoly = np.zeros(r, dtype = np.int32)\n",
    "    convolvePoly = np.convolve(firstRowA, firstRowB)\n",
    "\n",
    "    if len(convolvePoly) > r:\n",
    "        prodPoly[0:r] = convolvePoly[0:r]\n",
    "        prodPoly[0: len(convolvePoly) - r] += convolvePoly[r:]\n",
    "    else:\n",
    "        prodPoly[0: len(convolvePoly)] = convolvePoly[0: len(convolvePoly)]\n",
    "        \n",
    "    return prodPoly"
   ]
  },
  {
   "cell_type": "markdown",
   "metadata": {},
   "source": [
    "**entrée:** la première ligne d'une matrice circulante binaire. \n",
    "    **Sortie:**  la première ligne de l'inverse de la matrice circulante binaire"
   ]
  },
  {
   "cell_type": "code",
   "execution_count": 25,
   "metadata": {},
   "outputs": [],
   "source": [
    "def genInvPoly(firstRow):\n",
    "  \n",
    "    r = len(firstRow)\n",
    "    invPoly = np.zeros(r, dtype = np.int32)\n",
    "\n",
    "    # convertir un tableau numpy en polynôme\n",
    "    inv = convertNumpyToSympy(firstRow)\n",
    "\n",
    "    #définir un anneau polynomial, F_2 / (x**r - 1)\n",
    "    FField = \"x**\" + str(r) + \"-\" + str(1)\n",
    "    FField = poly(FField, domain=FF(2))\n",
    "\n",
    "    #recherche de l'inverse du polynôme dans l'anneau polynomial spécifié\n",
    "    inv = invert(poly(inv, domain=FF(2)), poly(FField, domain=FF(2)))\n",
    "    temp = convertSympyToNumpy(inv)\n",
    "\n",
    "    invPoly[0 : len(temp)] = temp\n",
    "    \n",
    "    return invPoly"
   ]
  },
  {
   "cell_type": "markdown",
   "metadata": {},
   "source": [
    "**entrée:** tableau d'entiers v. \n",
    "    **Sortie:** tableau d'entiers de v modulo 2"
   ]
  },
  {
   "cell_type": "code",
   "execution_count": 26,
   "metadata": {},
   "outputs": [],
   "source": [
    "def convertBinary(v):\n",
    "   \n",
    "    for i in range(len(v)):\n",
    "        v[i] = v[i] % 2\n",
    "\n",
    "    return v"
   ]
  },
  {
   "cell_type": "markdown",
   "metadata": {},
   "source": [
    "**entrée:** un tableau numpy.\n",
    "    **sortie:** un polynôme Sympy\n",
    "    **Hypothèses:** les coefficients sont non négatifs"
   ]
  },
  {
   "cell_type": "code",
   "execution_count": 27,
   "metadata": {},
   "outputs": [],
   "source": [
    "def convertNumpyToSympy(f):\n",
    "   \n",
    "    polynomial = \"\"\n",
    "    polynomial = polynomial + str(int(f[0]))\n",
    "    \n",
    "    for i in range(1, f.size):\n",
    "        if f[i] != 0:\n",
    "            polynomial += \" + \" + str(int(f[i])) + \"*x**\" + str(i)\n",
    "    return polynomial"
   ]
  },
  {
   "cell_type": "markdown",
   "metadata": {},
   "source": [
    "**entrée:** un polynôme Sympy. \n",
    "    **Sortie:** un tableau numpy"
   ]
  },
  {
   "cell_type": "code",
   "execution_count": 28,
   "metadata": {},
   "outputs": [],
   "source": [
    "def convertSympyToNumpy(f):\n",
    "    v = np.array(f.all_coeffs())\n",
    "\n",
    "    #Sympy stocke les coefficients du polynôme f (x) en puissances décroissantes de x\n",
    "    #ainsi l'ordre est inversé pour obtenir un tableau numpy de puissances croissantes de x\n",
    "    v = np.flip(v)\n",
    "    \n",
    "    return v"
   ]
  },
  {
   "cell_type": "markdown",
   "metadata": {},
   "source": [
    "   **Entree**:\n",
    "    firstRow: la première ligne de la matrice QC-MDPC\n",
    "    n: longueur du code / no QC-MDPC. de nœuds de bits dans le code QC-MDPC\n",
    "    r: non. de lignes / cols de chaque bloc circulant du code QC-MDPC\n",
    "    w: somme des poids (wi) de la première rangée de tous les blocs circulants.\n",
    "    **Sortie**: une matrice QC-MDPC construite à partir de la première ligne\n",
    "    notez que la distribution des poids est aléatoire.\n",
    "    Notez que firstRow est de longueur n = n0 * r\n",
    "    Définissez f_i (x) comme le polynôme de Hall de H_i"
   ]
  },
  {
   "cell_type": "code",
   "execution_count": 29,
   "metadata": {},
   "outputs": [],
   "source": [
    "def genQCMDPC(n, r, w):\n",
    "    n0 = int(n / r)\n",
    "    wi = int(w / n0)\n",
    "    \n",
    "    H = np.zeros((r, r * n0), dtype = np.int32)\n",
    "    H_i = np.zeros((r, r), dtype = np.int32)\n",
    "\n",
    "    for i in range(n0):\n",
    "        firstRow = genFirstRow(r, wi)\n",
    "        H_i = genCirculant(firstRow)\n",
    "\n",
    "        if i == 0:\n",
    "            H = H_i\n",
    "        else :\n",
    "            H = np.concatenate((H, H_i), axis=1)\n",
    "\n",
    "    filename = str(n) + \"_\" + str(r) + \"_\" + str(w) + \"_\" + \"parityCheckMatrix.csv\"\n",
    "\n",
    "    np.savetxt(filename, H, delimiter = \",\", fmt = \"%d\")\n",
    "\n",
    "    return H\n"
   ]
  },
  {
   "cell_type": "markdown",
   "metadata": {},
   "source": [
    "**Entrée:** matrice de contrôle de parité H.\n",
    "    **Sortie:** matrice génératrice G correspondante"
   ]
  },
  {
   "cell_type": "code",
   "execution_count": 30,
   "metadata": {},
   "outputs": [],
   "source": [
    "def genGenQCMDPC(H):\n",
    "   \n",
    "    r, n = H.shape\n",
    "    n0 = int(n / r)\n",
    "    H_i = np.zeros((r, r), dtype = np.int32)\n",
    "    G = np.eye(n - r, dtype = np.int32)\n",
    "    block0 = np.zeros((r, r), dtype = np.int32)\n",
    "\n",
    "    #extraire les polynômes générateurs pour h_ {n_0-1} de H\n",
    "    lastPoly = H[0, n - r : n]\n",
    "\n",
    "    #calculer le polynôme générateur de l'inverse de h_ {n_0-1}\n",
    "    invLastPoly = genInvPoly(lastPoly)\n",
    "\n",
    "    #calculer le premier bloc circulant pour G\n",
    "    temp = genProdPoly(invLastPoly, H[0, 0:r])\n",
    "    temp1 = convertBinary(temp)\n",
    "    temp2 = genTransposePoly(temp1)\n",
    "    block0 = genCirculant(temp2)\n",
    "\n",
    "    #calculer le bloc circulant suivant pour G et les concaténer\n",
    "    for i in range(1, n0 - 1):\n",
    "        temp = genProdPoly(invLastPoly, H[0, i*r : (i+1)*r])\n",
    "        temp1 = convertBinary(temp)\n",
    "        temp2 = genTransposePoly(temp1)\n",
    "        block = genCirculant(temp2)\n",
    "        block0 = np.concatenate((block0, block), axis = 0)\n",
    "\n",
    "    if (n0 == 1):\n",
    "        return G\n",
    "    else :\n",
    "     #concaténer la matrice d'identité d'ordre (n - r) et l'empilement de matrices circulantes pour former G\n",
    "        G = np.concatenate((G, block0), axis = 1)\n",
    "\n",
    "    w = sum(H[0, :])\n",
    "    \n",
    "    filename = str(n) + \"_\" + str(r) + \"_\" + str(w) + \"_\" + \"GeneratorMatrix.csv\"\n",
    "\n",
    "    np.savetxt(filename, G, delimiter = \",\", fmt = \"%d\")\n",
    "    \n",
    "    return G"
   ]
  },
  {
   "cell_type": "code",
   "execution_count": 34,
   "metadata": {},
   "outputs": [
    {
     "name": "stdout",
     "output_type": "stream",
     "text": [
      "########## Generate keys ##########\n",
      "(r,d,t): (10, 7, 13)\n",
      "G:\n",
      " [[1 0 0 0 0 0 0 0 0 0 1 1 1 1 1 1 0 1 0 0]\n",
      " [0 1 0 0 0 0 0 0 0 0 0 1 1 1 1 1 1 0 1 0]\n",
      " [0 0 1 0 0 0 0 0 0 0 0 0 1 1 1 1 1 1 0 1]\n",
      " [0 0 0 1 0 0 0 0 0 0 1 0 0 1 1 1 1 1 1 0]\n",
      " [0 0 0 0 1 0 0 0 0 0 0 1 0 0 1 1 1 1 1 1]\n",
      " [0 0 0 0 0 1 0 0 0 0 1 0 1 0 0 1 1 1 1 1]\n",
      " [0 0 0 0 0 0 1 0 0 0 1 1 0 1 0 0 1 1 1 1]\n",
      " [0 0 0 0 0 0 0 1 0 0 1 1 1 0 1 0 0 1 1 1]\n",
      " [0 0 0 0 0 0 0 0 1 0 1 1 1 1 0 1 0 0 1 1]\n",
      " [0 0 0 0 0 0 0 0 0 1 1 1 1 1 1 0 1 0 0 1]]\n"
     ]
    }
   ],
   "source": [
    "# paramètres de code\n",
    "n0 = 2\n",
    "r = 10\n",
    "wi = 7\n",
    "\n",
    "#paramètres de décryptage\n",
    "t = 13\n",
    "\n",
    "d = r // 2\n",
    "\n",
    "n = n0 * r\n",
    "w = wi * n0\n",
    "\n",
    "print('########## Generate keys ##########')\n",
    "print(\"(r,d,t):\", (r,wi,t))\n",
    "# générer une matrice aléatoire (n, r, w) -QC-MDPC H\n",
    "H = genQCMDPC(n, r, w)\n",
    "\n",
    "# Générer la matrice génératrice G correspondante\n",
    "G = genGenQCMDPC(H)\n",
    "\n",
    "print(\"G:\\n\", G)\n"
   ]
  },
  {
   "cell_type": "code",
   "execution_count": null,
   "metadata": {},
   "outputs": [],
   "source": []
  }
 ],
 "metadata": {
  "kernelspec": {
   "display_name": "Python 3",
   "language": "python",
   "name": "python3"
  },
  "language_info": {
   "codemirror_mode": {
    "name": "ipython",
    "version": 3
   },
   "file_extension": ".py",
   "mimetype": "text/x-python",
   "name": "python",
   "nbconvert_exporter": "python",
   "pygments_lexer": "ipython3",
   "version": "3.8.5"
  }
 },
 "nbformat": 4,
 "nbformat_minor": 4
}
